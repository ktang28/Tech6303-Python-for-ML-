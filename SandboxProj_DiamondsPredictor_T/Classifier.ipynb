{
 "cells": [
  {
   "cell_type": "code",
   "execution_count": 8,
   "id": "81656cb3-e587-403c-a2aa-e5e9731695a8",
   "metadata": {},
   "outputs": [
    {
     "name": "stdout",
     "output_type": "stream",
     "text": [
      "43152 5394 5394\n"
     ]
    }
   ],
   "source": [
    "import pandas as pd\n",
    "df = pd.read_csv('C:/Users/ktang28/SandboxProj_DiamondsPredictor/diamonds.csv')\n",
    "\n",
    "# classifier: Classification for predicting diamond clarity\n",
    "\n",
    "from sklearn.model_selection import train_test_split\n",
    "from sklearn.preprocessing import LabelEncoder, StandardScaler\n",
    "\n",
    "encoder = LabelEncoder()\n",
    "df['cut'] = encoder.fit_transform(df['cut'])\n",
    "df['color'] = encoder.fit_transform(df['color'])\n",
    "df['clarity'] = encoder.fit_transform(df['clarity'])\n",
    "    \n",
    "X = df.drop('clarity', axis=1)\n",
    "y = df['clarity']\n",
    "\n",
    "scaler = StandardScaler()\n",
    "X_normalized = scaler.fit_transform(X)\n",
    "\n",
    "X_train, X_test, y_train,y_test = train_test_split(X_normalized, y, test_size = 0.2)\n",
    "X_validate, X_test, y_validate,y_test = train_test_split(X_test, y_test, test_size = 0.5)\n",
    "\n",
    "print(len(X_train), len(X_test),len(X_validate))"
   ]
  },
  {
   "cell_type": "code",
   "execution_count": 16,
   "id": "681d39f8-223c-4d10-8ce7-c477d4ebf9e8",
   "metadata": {},
   "outputs": [
    {
     "data": {
      "text/plain": [
       "0.43919169447534295"
      ]
     },
     "execution_count": 16,
     "metadata": {},
     "output_type": "execute_result"
    }
   ],
   "source": [
    "# train model using KNN\n",
    "from sklearn.neighbors import KNeighborsClassifier\n",
    "knn = KNeighborsClassifier(n_neighbors = 8)\n",
    "knn.fit(X_train, y_train)\n",
    "knn.score(X_test,y_test)"
   ]
  },
  {
   "cell_type": "code",
   "execution_count": 18,
   "id": "b8b2ab79-6dc1-4d53-8874-a39a4a00c04b",
   "metadata": {},
   "outputs": [
    {
     "name": "stdout",
     "output_type": "stream",
     "text": [
      "0.6166110493140526\n"
     ]
    }
   ],
   "source": [
    "from sklearn.tree import DecisionTreeClassifier\n",
    "model_dt = DecisionTreeClassifier(random_state=0,splitter= 'best')\n",
    "model_dt.fit(X_train, y_train)\n",
    "    \n",
    "y_pred = model_dt.predict(X_test)\n",
    "score = model_dt.score(X_test,y_test)\n",
    "print(score)"
   ]
  },
  {
   "cell_type": "code",
   "execution_count": 20,
   "id": "77319621-f3c0-45a2-b9ef-314e8cad12fa",
   "metadata": {},
   "outputs": [
    {
     "name": "stdout",
     "output_type": "stream",
     "text": [
      "0.6952169076751946\n"
     ]
    }
   ],
   "source": [
    "from sklearn.ensemble import RandomForestClassifier \n",
    "model_rf = RandomForestClassifier(n_estimators=100, criterion='gini')\n",
    "model_rf.fit(X_train, y_train)\n",
    "y_pred = model_rf.predict(X_test)\n",
    "score = model_rf.score(X_test,y_test)\n",
    "print(score)"
   ]
  },
  {
   "cell_type": "code",
   "execution_count": 58,
   "id": "ae68f9b6-fd93-4622-978b-82e9ad9baf97",
   "metadata": {},
   "outputs": [
    {
     "name": "stdout",
     "output_type": "stream",
     "text": [
      "Epoch 1/10\n",
      "\u001b[1m8631/8631\u001b[0m \u001b[32m━━━━━━━━━━━━━━━━━━━━\u001b[0m\u001b[37m\u001b[0m \u001b[1m14s\u001b[0m 1ms/step - accuracy: 0.0339 - loss: -45.2136\n",
      "Epoch 2/10\n",
      "\u001b[1m8631/8631\u001b[0m \u001b[32m━━━━━━━━━━━━━━━━━━━━\u001b[0m\u001b[37m\u001b[0m \u001b[1m12s\u001b[0m 1ms/step - accuracy: 0.0339 - loss: -45.2136\n",
      "Epoch 3/10\n",
      "\u001b[1m8631/8631\u001b[0m \u001b[32m━━━━━━━━━━━━━━━━━━━━\u001b[0m\u001b[37m\u001b[0m \u001b[1m12s\u001b[0m 1ms/step - accuracy: 0.0339 - loss: -45.2136\n",
      "Epoch 4/10\n",
      "\u001b[1m8631/8631\u001b[0m \u001b[32m━━━━━━━━━━━━━━━━━━━━\u001b[0m\u001b[37m\u001b[0m \u001b[1m21s\u001b[0m 1ms/step - accuracy: 0.0339 - loss: -45.2136\n",
      "Epoch 5/10\n",
      "\u001b[1m8631/8631\u001b[0m \u001b[32m━━━━━━━━━━━━━━━━━━━━\u001b[0m\u001b[37m\u001b[0m \u001b[1m12s\u001b[0m 1ms/step - accuracy: 0.0339 - loss: -45.2136\n",
      "Epoch 6/10\n",
      "\u001b[1m8631/8631\u001b[0m \u001b[32m━━━━━━━━━━━━━━━━━━━━\u001b[0m\u001b[37m\u001b[0m \u001b[1m12s\u001b[0m 1ms/step - accuracy: 0.0339 - loss: -45.2136\n",
      "Epoch 7/10\n",
      "\u001b[1m8631/8631\u001b[0m \u001b[32m━━━━━━━━━━━━━━━━━━━━\u001b[0m\u001b[37m\u001b[0m \u001b[1m13s\u001b[0m 1ms/step - accuracy: 0.0339 - loss: -45.2136\n",
      "Epoch 8/10\n",
      "\u001b[1m8631/8631\u001b[0m \u001b[32m━━━━━━━━━━━━━━━━━━━━\u001b[0m\u001b[37m\u001b[0m \u001b[1m12s\u001b[0m 1ms/step - accuracy: 0.0339 - loss: -45.2136\n",
      "Epoch 9/10\n",
      "\u001b[1m8631/8631\u001b[0m \u001b[32m━━━━━━━━━━━━━━━━━━━━\u001b[0m\u001b[37m\u001b[0m \u001b[1m12s\u001b[0m 1ms/step - accuracy: 0.0339 - loss: -45.2136\n",
      "Epoch 10/10\n",
      "\u001b[1m8631/8631\u001b[0m \u001b[32m━━━━━━━━━━━━━━━━━━━━\u001b[0m\u001b[37m\u001b[0m \u001b[1m21s\u001b[0m 1ms/step - accuracy: 0.0339 - loss: -45.2136\n",
      "\u001b[1m169/169\u001b[0m \u001b[32m━━━━━━━━━━━━━━━━━━━━\u001b[0m\u001b[37m\u001b[0m \u001b[1m0s\u001b[0m 1ms/step  \n",
      "R2 squared score: -273.4547451213385\n"
     ]
    }
   ],
   "source": [
    "import tensorflow as tf\n",
    "from tensorflow import keras\n",
    "\n",
    "from tensorflow.keras.layers import Input\n",
    "model = keras.models.Sequential([\n",
    "    Input(shape=(X_train.shape[1],)),\n",
    "    keras.layers.Dense(100, activation=tf.nn.relu,),\n",
    "    keras.layers.Dense(100, activation=tf.nn.relu),\n",
    "    keras.layers.Dense(100, activation=tf.nn.relu),\n",
    "    keras.layers.Dense(1, activation=tf.nn.softmax)\n",
    "])\n",
    "        \n",
    "model.compile(loss='binary_crossentropy', optimizer='adam', metrics=['accuracy'])\n",
    "model.fit(X_train, y_train, epochs=10, batch_size=5, shuffle=False)\n",
    "    \n",
    "y_pred = model.predict(X_test)\n",
    "    \n",
    "from sklearn.metrics import confusion_matrix\n",
    "confusion_matrix = confusion_matrix(y_test, y_pred)\n",
    "   \n",
    "from sklearn.metrics import r2_score\n",
    "print('R2 squared score: ' + str(r2_score(y_test,y_pred)*100))\n"
   ]
  },
  {
   "cell_type": "code",
   "execution_count": 47,
   "id": "fcf59974-8bb3-44f5-9bd6-7521b586e6ee",
   "metadata": {},
   "outputs": [
    {
     "name": "stdout",
     "output_type": "stream",
     "text": [
      "[[ 57   0   1  14   0   0   0   0]\n",
      " [  0 139   0   0   2   0  30  11]\n",
      " [  0   1 870 189  42 181   3   6]\n",
      " [ 13   0 131 734   1  19   0   0]\n",
      " [  0   7  22   6 537 170  22  77]\n",
      " [  0   3 137  24 205 827   9  24]\n",
      " [  0  38   1   0  22   8 232  77]\n",
      " [  0  24   1   1  74  27  83 292]]\n"
     ]
    },
    {
     "name": "stderr",
     "output_type": "stream",
     "text": [
      "C:\\Users\\ktang28\\AppData\\Local\\anaconda3\\Lib\\site-packages\\sklearn\\neural_network\\_multilayer_perceptron.py:691: ConvergenceWarning: Stochastic Optimizer: Maximum iterations (100) reached and the optimization hasn't converged yet.\n",
      "  warnings.warn(\n"
     ]
    }
   ],
   "source": [
    "from sklearn.neural_network import MLPClassifier\n",
    "from sklearn.metrics import confusion_matrix\n",
    "  \n",
    "ann_classifier = MLPClassifier(hidden_layer_sizes=(100, 100, 100),activation='relu',solver='adam',max_iter=100,batch_size=20,random_state=0)\n",
    "ann_classifier.fit(X_train, y_train)\n",
    "  \n",
    "y_pred = ann_classifier.predict(X_test)\n",
    "confusion_matrix = confusion_matrix(y_test, y_pred)\n",
    "print(confusion_matrix)"
   ]
  },
  {
   "cell_type": "code",
   "execution_count": 61,
   "id": "52364792-b096-44a3-9563-3e318d871391",
   "metadata": {},
   "outputs": [
    {
     "name": "stdout",
     "output_type": "stream",
     "text": [
      "0.6837226548016314\n"
     ]
    }
   ],
   "source": [
    "score = ann_classifier.score(X_test,y_test)\n",
    "print(score)"
   ]
  },
  {
   "cell_type": "code",
   "execution_count": 71,
   "id": "a0586104-cad9-48dc-8e6a-5b869e9a96b9",
   "metadata": {},
   "outputs": [
    {
     "data": {
      "text/plain": [
       "function"
      ]
     },
     "execution_count": 71,
     "metadata": {},
     "output_type": "execute_result"
    }
   ],
   "source": [
    "type(confusion_matrix)"
   ]
  },
  {
   "cell_type": "code",
   "execution_count": 73,
   "id": "95e17bda-eca6-416f-b60c-f9798c3d5784",
   "metadata": {},
   "outputs": [],
   "source": [
    "import numpy as np\n",
    "array_cm = np.array(confusion_matrix)"
   ]
  },
  {
   "cell_type": "code",
   "execution_count": 85,
   "id": "bcd50247-fa33-48fd-a3a2-a41103dcaa74",
   "metadata": {},
   "outputs": [
    {
     "name": "stdout",
     "output_type": "stream",
     "text": [
      "<function confusion_matrix at 0x000001A98DD3C540>\n"
     ]
    }
   ],
   "source": [
    "print(array_cm)"
   ]
  },
  {
   "cell_type": "code",
   "execution_count": 83,
   "id": "9be63807-f64f-40b8-b9d6-fcf8f4f14b2a",
   "metadata": {},
   "outputs": [
    {
     "data": {
      "text/plain": [
       "numpy.ndarray"
      ]
     },
     "execution_count": 83,
     "metadata": {},
     "output_type": "execute_result"
    }
   ],
   "source": [
    "type(array_cm)"
   ]
  },
  {
   "cell_type": "code",
   "execution_count": 104,
   "id": "a3d030c3-6b3f-4a30-88dc-6abc3ed9b054",
   "metadata": {},
   "outputs": [
    {
     "name": "stdout",
     "output_type": "stream",
     "text": [
      "Confusion Matrix Shape: (8, 8)\n",
      "Confusion Matrix:\n",
      " [[   0   72    0    0    0    0    0    0]\n",
      " [   0  182    0    0    0    0    0    0]\n",
      " [   0 1292    0    0    0    0    0    0]\n",
      " [   0  898    0    0    0    0    0    0]\n",
      " [   0  841    0    0    0    0    0    0]\n",
      " [   0 1229    0    0    0    0    0    0]\n",
      " [   0  378    0    0    0    0    0    0]\n",
      " [   0  502    0    0    0    0    0    0]]\n"
     ]
    }
   ],
   "source": [
    "cm = confusion_matrix(y_test, y_pred)\n",
    "print(\"Confusion Matrix Shape:\", cm.shape)\n",
    "print(\"Confusion Matrix:\\n\", cm)\n"
   ]
  },
  {
   "cell_type": "code",
   "execution_count": 106,
   "id": "11bcc1bf-a412-4ae7-8a72-97a1b7fe4572",
   "metadata": {},
   "outputs": [
    {
     "data": {
      "image/png": "[encoded data removed]",
      "text/plain": [
       "<Figure size 1000x800 with 2 Axes>"
      ]
     },
     "metadata": {},
     "output_type": "display_data"
    }
   ],
   "source": [
    "import matplotlib.pyplot as plt\n",
    "import seaborn as sns\n",
    "\n",
    "plt.figure(figsize=(10, 8))\n",
    "sns.heatmap(cm, annot=True, fmt='d', cmap='Blues',\n",
    "            xticklabels=np.unique(y), yticklabels=np.unique(y))\n",
    "plt.xlabel('Predicted Labels')\n",
    "plt.ylabel('True Labels')\n",
    "plt.title('Confusion Matrix')\n",
    "plt.show()"
   ]
  },
  {
   "cell_type": "code",
   "execution_count": 77,
   "id": "61bff4ec-ffe5-48ff-a25a-6ebcc3e4316b",
   "metadata": {},
   "outputs": [],
   "source": [
    "import matplotlib.pyplot as plt\n",
    "import seaborn as sns\n",
    "\n",
    "disp = ConfusionMatrixDisplay(array_cm)\n",
    "\n",
    "#disp.plot(cmap=plt.cm.Blues)\n",
    "plt.show()\n"
   ]
  },
  {
   "cell_type": "code",
   "execution_count": null,
   "id": "16ba21e0-f8c1-4ada-a42d-4636fde33c6d",
   "metadata": {},
   "outputs": [],
   "source": []
  }
 ],
 "metadata": {
  "kernelspec": {
   "display_name": "Python 3 (ipykernel)",
   "language": "python",
   "name": "python3"
  },
  "language_info": {
   "codemirror_mode": {
    "name": "ipython",
    "version": 3
   },
   "file_extension": ".py",
   "mimetype": "text/x-python",
   "name": "python",
   "nbconvert_exporter": "python",
   "pygments_lexer": "ipython3",
   "version": "3.11.5"
  }
 },
 "nbformat": 4,
 "nbformat_minor": 5
}
